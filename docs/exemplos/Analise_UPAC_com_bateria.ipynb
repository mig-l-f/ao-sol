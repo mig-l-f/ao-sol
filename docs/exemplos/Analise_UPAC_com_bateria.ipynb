{
 "cells": [
  {
   "cell_type": "code",
   "execution_count": 1,
   "metadata": {},
   "outputs": [],
   "source": [
    "import pandas as pd\n",
    "import matplotlib.pyplot as plt\n",
    "import numpy as np\n",
    "%matplotlib inline  \n",
    "import locale\n",
    "locale.setlocale(locale.LC_TIME, \"pt_PT\") # processar datas em PT\n",
    "from datetime import timedelta\n",
    "import os\n",
    "import sys\n",
    "sys.path.append('../../src')\n",
    "import aosol.series.consumo as series\n",
    "import aosol.series.producao as seriesprod\n",
    "import aosol.series.pvgis as pvgis\n",
    "import aosol.analise.analise_energia as ae\n",
    "import aosol.analise.analise_financeira as af\n",
    "import aosol.analise.analise_precos_energia as ape\n",
    "from aosol.armazenamento import bateria\n",
    "from IPython.display import HTML, display, display_html"
   ]
  },
  {
   "cell_type": "markdown",
   "metadata": {},
   "source": [
    "# Analise de UPAC com bateria\n",
    "\n",
    "Analise de um projecto de UPAC com dados de consumo obtidos do portal e-redes, dados de produção obtidos da plataforma PVGIS e subsequente análise dos indicadores principais do projecto: indice auto consumo (IAC), indice de auto suficiência (IAS) e indice entrega à rede (IER). É feita também uma análise financeiro do projecto."
   ]
  },
  {
   "cell_type": "code",
   "execution_count": 2,
   "metadata": {},
   "outputs": [],
   "source": [
    "# Parametros do projecto\n",
    "nome_projecto = 'Covilha_4.1Kw+3.5Kwh'\n",
    "# =====================\n",
    "# Consumo\n",
    "# =====================\n",
    "ano_consumo = 2023\n",
    "perfil = 'BTN C' # ver na document\n",
    "consumo_anual = 8400 # kWh, exemplo consumo médio 200 kWh/mes\n",
    "fich_perfil_eredes = r\"./consumo/perfis_eredes/E-REDES_Perfil_Consumo_2023.csv\"\n",
    "\n",
    "# =====================\n",
    "# Producao\n",
    "# =====================\n",
    "capacidade_instalada = 4.14 # em kW\n",
    "ano_producao = 2023 # converter as datas de producao para este ano\n",
    "# Opcoes API PVGIS\n",
    "inicio_ano_pvgis = 2005\n",
    "fim_ano_pvgis = 2023 # PVGIS-SARAH3 na V5.3 (2005-2023)\n",
    "lat = 40.280  # Covilha\n",
    "lon = -7.504\n",
    "inclinacao = 30\n",
    "azimute = 0.0 # azimute = 180 + x; 0 = Sul\n",
    "perdas = 14 # %\n",
    "eficiencia_inversor = 0.96\n",
    "\n",
    "# =====================\n",
    "# Analise energetica\n",
    "# =====================\n",
    "analise_com_bateria = True\n",
    "capacidade_bat = 3.5 # kWh\n",
    "soc_min = 0.1 # limite maximo descarregamento em % \n",
    "soc_max = 0.9 # limite maximo carregamento em %\n",
    "eficiencia_bateria = 0.92\n",
    "\n",
    "# =====================\n",
    "# Analise poupanca anual\n",
    "# =====================\n",
    "ano_tarifario = 2023\n",
    "simples_kwh = 0.0 # simples\n",
    "bihorario_fora_vazio_kwh = 0.1751\n",
    "bihorario_vazio_kwh = 0.1001\n",
    "trihorario_ponta_kwh = 0.0\n",
    "trihorario_cheias_kwh = 0.0\n",
    "trihorario_vazio_kwh = 0.0\n",
    "# venda a rede com preco fixo\n",
    "preco_venda_rede = 0.04 # 4cent/kWh\n",
    "precos_energia = ape.TarifarioEnergia(simples_kwh, \\\n",
    "    bihorario_fora_vazio_kwh, bihorario_vazio_kwh, \\\n",
    "    trihorario_ponta_kwh, trihorario_cheias_kwh, trihorario_vazio_kwh, \\\n",
    "    preco_venda_rede)\n",
    "\n",
    "# =====================\n",
    "# Analise tempo de vida\n",
    "# =====================\n",
    "tempo_vida = 20 # anos\n",
    "ano_0 = 2023 # ano 0 do projecto\n",
    "taxa_actualizacao = 5 # em %\n",
    "taxa_degradacao_sistema = 0.7 # %/ano\n",
    "taxa_inflacao = 2.0 # %/ano\n",
    "\n",
    "# Custos do projecto\n",
    "#total = 2420 + 450 + 150 + 1396 # €\n",
    "# investimento_estimado = pv + instalacao + outros_custos\n",
    "custo_pv = 2420 \n",
    "custo_bat = 1396 # plyontech us3000c\n",
    "custo_instalacao = 450\n",
    "outros_custos = 150\n",
    "# custo manutencao anual como percentagem do investimento\n",
    "perc_custo_manutencao = 0.5 # em %\n",
    "# apoio estatal (fundo ambiental)\n",
    "considerar_apoio = False\n",
    "perc_apoio = 85 # em % do investimento estimado\n",
    "apoio_max = 2500 # em €, valor maximo pago pelo fundo"
   ]
  },
  {
   "cell_type": "markdown",
   "metadata": {},
   "source": [
    "## 1. Consumo\n",
    "\n",
    "Utilização de perfil médio da e-redes"
   ]
  },
  {
   "cell_type": "code",
   "execution_count": 3,
   "metadata": {},
   "outputs": [],
   "source": [
    "perfil_eredes = series.leitura_perfis_eredes(fich_perfil_eredes, perfil)\n",
    "consumo = series.ajustar_perfil_eredes_a_consumo_anual(perfil_eredes, consumo_anual, 'BTN C', 'consumo')"
   ]
  },
  {
   "cell_type": "code",
   "execution_count": 4,
   "metadata": {},
   "outputs": [
    {
     "name": "stdout",
     "output_type": "stream",
     "text": [
      "Consumo anual = 8400.0 kWh\n"
     ]
    },
    {
     "data": {
      "image/png": "[encoded data removed]",
      "text/plain": [
       "<Figure size 640x480 with 1 Axes>"
      ]
     },
     "metadata": {},
     "output_type": "display_data"
    }
   ],
   "source": [
    "consumo_mensal = consumo['consumo'].resample('M').sum()\n",
    "\n",
    "width = 0.25\n",
    "plt.bar(consumo_mensal.index.month-width/2, consumo_mensal, width=width, label='Medicao')\n",
    "plt.legend()\n",
    "plt.ylabel('Energia [kWh]')\n",
    "plt.grid()\n",
    "\n",
    "print(\"Consumo anual = {:.1f} kWh\".format(consumo['consumo'].sum()))"
   ]
  },
  {
   "cell_type": "markdown",
   "metadata": {},
   "source": [
    "## 2. Produção\n",
    "\n",
    "Produção estimada através do PV GIS"
   ]
  },
  {
   "cell_type": "code",
   "execution_count": 5,
   "metadata": {},
   "outputs": [],
   "source": [
    "producao = pvgis.get_pvgis_hourly(lat, lon, inicio_ano_pvgis, fim_ano_pvgis, surface_tilt=inclinacao, surface_azimuth=azimute, peakpower=capacidade_instalada, loss=perdas)\n",
    "producao = seriesprod.converter_pvgis_multiyear_ts(producao, ano_producao)"
   ]
  },
  {
   "cell_type": "code",
   "execution_count": 6,
   "metadata": {},
   "outputs": [
    {
     "data": {
      "image/png": "[encoded data removed]",
      "text/plain": [
       "<Figure size 640x480 with 1 Axes>"
      ]
     },
     "metadata": {},
     "output_type": "display_data"
    }
   ],
   "source": [
    "producao_mensal = producao.resample('M').sum()\n",
    "\n",
    "fig, ax = plt.subplots()\n",
    "\n",
    "width = 0.50\n",
    "c = ax.bar(consumo_mensal.index.month-width/4, consumo_mensal, width=width/2, label='Consumo')\n",
    "ax.bar_label(c, fmt='%d', fontsize=8)\n",
    "p = ax.bar(producao_mensal.index.month+width/4, producao_mensal['autoproducao'], width=width/2, label='Producao')\n",
    "ax.bar_label(p, fmt='%d', fontsize=8)\n",
    "plt.legend()\n",
    "plt.ylabel('Energia [kWh]')\n",
    "plt.grid()"
   ]
  },
  {
   "cell_type": "markdown",
   "metadata": {},
   "source": [
    "## 3. Análise Energético do Projecto\n",
    "\n",
    "Considerar sistema de armazenamento com estado de carga (SOC) minimo de 20% e máximo de 80% para maximizar tempo de vida da bateria. "
   ]
  },
  {
   "cell_type": "code",
   "execution_count": 7,
   "metadata": {},
   "outputs": [],
   "source": [
    "energia_armaz = []\n",
    "\n",
    "if analise_com_bateria:\n",
    "    bat = bateria.bateria(capacidade_bat, soc_min, soc_max, eficiencia_bateria)\n",
    "\n",
    "    # data frames com armazenamento\n",
    "    energia_armaz = consumo['consumo'].to_frame('consumo')\n",
    "    energia_armaz = energia_armaz.join(producao, how=\"outer\")\n",
    "\n",
    "    energia_armaz = ae.analisa_upac_com_armazenamento(energia_armaz, bat, eficiencia_inversor=eficiencia_inversor)"
   ]
  },
  {
   "cell_type": "code",
   "execution_count": 8,
   "metadata": {},
   "outputs": [
    {
     "data": {
      "image/png": "[encoded data removed]",
      "text/plain": [
       "<Figure size 640x480 with 1 Axes>"
      ]
     },
     "metadata": {},
     "output_type": "display_data"
    }
   ],
   "source": [
    "if analise_com_bateria:\n",
    "    energia_armaz_mensal = energia_armaz.resample('M').sum()\n",
    "\n",
    "    fig, ax = plt.subplots()\n",
    "\n",
    "    # plot mean P50\n",
    "    ae.plot_energia_mensal_bars(ax, energia_armaz_mensal, consumo_mensal, producao_mensal[\"autoproducao\"], [\"consumo_rede\", \"autoconsumo\", \"injeccao_rede\", \"descarga_bateria\"])"
   ]
  },
  {
   "cell_type": "code",
   "execution_count": 9,
   "metadata": {},
   "outputs": [
    {
     "data": {
      "text/html": [
       "<table border=\"1\" class=\"dataframe\">\n",
       "  <thead>\n",
       "    <tr style=\"text-align: right;\">\n",
       "      <th>label</th>\n",
       "      <th>P50</th>\n",
       "    </tr>\n",
       "  </thead>\n",
       "  <tbody>\n",
       "    <tr>\n",
       "      <th>Potencia instalada [kW]</th>\n",
       "      <td>4.1</td>\n",
       "    </tr>\n",
       "    <tr>\n",
       "      <th>IAS: Contributo PV [%]</th>\n",
       "      <td>49.9</td>\n",
       "    </tr>\n",
       "    <tr>\n",
       "      <th>IAC: Indice Auto consumo [%]</th>\n",
       "      <td>70.3</td>\n",
       "    </tr>\n",
       "    <tr>\n",
       "      <th>IER: Producao PV desperdicada [%]</th>\n",
       "      <td>29.7</td>\n",
       "    </tr>\n",
       "    <tr>\n",
       "      <th>Energia consumida [kWh]</th>\n",
       "      <td>8400.0</td>\n",
       "    </tr>\n",
       "    <tr>\n",
       "      <th>Energia Autoproduzida [kWh]</th>\n",
       "      <td>5962.5</td>\n",
       "    </tr>\n",
       "    <tr>\n",
       "      <th>Energia Autoconsumida [kWh]</th>\n",
       "      <td>4193.9</td>\n",
       "    </tr>\n",
       "    <tr>\n",
       "      <th>Energia consumida rede [kWh]</th>\n",
       "      <td>4206.1</td>\n",
       "    </tr>\n",
       "    <tr>\n",
       "      <th>Energia injectada rede [kWh]</th>\n",
       "      <td>1459.3</td>\n",
       "    </tr>\n",
       "    <tr>\n",
       "      <th>Perdas inversor [kWh]</th>\n",
       "      <td>235.6</td>\n",
       "    </tr>\n",
       "    <tr>\n",
       "      <th>Numero de horas equivalentes [h/ano]</th>\n",
       "      <td>1440.2</td>\n",
       "    </tr>\n",
       "    <tr>\n",
       "      <th>Capacidade bateria [kWh]</th>\n",
       "      <td>3.5</td>\n",
       "    </tr>\n",
       "    <tr>\n",
       "      <th>Energia fornecida bateria [kWh]</th>\n",
       "      <td>863.3</td>\n",
       "    </tr>\n",
       "    <tr>\n",
       "      <th>Perdas bateria [kWh]</th>\n",
       "      <td>73.7</td>\n",
       "    </tr>\n",
       "    <tr>\n",
       "      <th>Ciclos da bateria</th>\n",
       "      <td>246.7</td>\n",
       "    </tr>\n",
       "    <tr>\n",
       "      <th>residuo</th>\n",
       "      <td>-0.0</td>\n",
       "    </tr>\n",
       "  </tbody>\n",
       "</table>"
      ],
      "text/plain": [
       "<IPython.core.display.HTML object>"
      ]
     },
     "metadata": {},
     "output_type": "display_data"
    }
   ],
   "source": [
    "if analise_com_bateria:\n",
    "    indicadores_armaz = ae.calcula_indicadores_autoconsumo(energia_armaz, capacidade_instalada, eficiencia_inversor, bat)\n",
    "    indicadores_armaz.print_html(\"P50\")"
   ]
  },
  {
   "cell_type": "markdown",
   "metadata": {},
   "source": [
    "## 4. Análise de poupanca anual\n",
    "\n",
    "Custos mensais por tipo tarifario."
   ]
  },
  {
   "cell_type": "markdown",
   "metadata": {},
   "source": [
    "### 4.1 UPAC sem venda à rede"
   ]
  },
  {
   "cell_type": "code",
   "execution_count": 10,
   "metadata": {},
   "outputs": [
    {
     "data": {
      "text/html": [
       "<style type=\"text/css\">\n",
       "</style>\n",
       "<table id=\"T_e42b6\" style='display:inline'>\n",
       "  <caption>Tarifario Bi-horário P50</caption>\n",
       "  <thead>\n",
       "    <tr>\n",
       "      <th class=\"blank level0\" >&nbsp;</th>\n",
       "      <th id=\"T_e42b6_level0_col0\" class=\"col_heading level0 col0\" >fatura sem upac</th>\n",
       "      <th id=\"T_e42b6_level0_col1\" class=\"col_heading level0 col1\" >fatura com upac</th>\n",
       "      <th id=\"T_e42b6_level0_col2\" class=\"col_heading level0 col2\" >poupanca</th>\n",
       "    </tr>\n",
       "    <tr>\n",
       "      <th class=\"index_name level0\" >mes</th>\n",
       "      <th class=\"blank col0\" >&nbsp;</th>\n",
       "      <th class=\"blank col1\" >&nbsp;</th>\n",
       "      <th class=\"blank col2\" >&nbsp;</th>\n",
       "    </tr>\n",
       "  </thead>\n",
       "  <tbody>\n",
       "    <tr>\n",
       "      <th id=\"T_e42b6_level0_row0\" class=\"row_heading level0 row0\" >Janeiro</th>\n",
       "      <td id=\"T_e42b6_row0_col0\" class=\"data row0 col0\" >169.87 €</td>\n",
       "      <td id=\"T_e42b6_row0_col1\" class=\"data row0 col1\" >98.23 €</td>\n",
       "      <td id=\"T_e42b6_row0_col2\" class=\"data row0 col2\" >71.64 €</td>\n",
       "    </tr>\n",
       "    <tr>\n",
       "      <th id=\"T_e42b6_level0_row1\" class=\"row_heading level0 row1\" >Fevereiro</th>\n",
       "      <td id=\"T_e42b6_row1_col0\" class=\"data row1 col0\" >142.00 €</td>\n",
       "      <td id=\"T_e42b6_row1_col1\" class=\"data row1 col1\" >69.69 €</td>\n",
       "      <td id=\"T_e42b6_row1_col2\" class=\"data row1 col2\" >72.31 €</td>\n",
       "    </tr>\n",
       "    <tr>\n",
       "      <th id=\"T_e42b6_level0_row2\" class=\"row_heading level0 row2\" >Março</th>\n",
       "      <td id=\"T_e42b6_row2_col0\" class=\"data row2 col0\" >138.00 €</td>\n",
       "      <td id=\"T_e42b6_row2_col1\" class=\"data row2 col1\" >57.63 €</td>\n",
       "      <td id=\"T_e42b6_row2_col2\" class=\"data row2 col2\" >80.37 €</td>\n",
       "    </tr>\n",
       "    <tr>\n",
       "      <th id=\"T_e42b6_level0_row3\" class=\"row_heading level0 row3\" >Abril</th>\n",
       "      <td id=\"T_e42b6_row3_col0\" class=\"data row3 col0\" >121.39 €</td>\n",
       "      <td id=\"T_e42b6_row3_col1\" class=\"data row3 col1\" >44.01 €</td>\n",
       "      <td id=\"T_e42b6_row3_col2\" class=\"data row3 col2\" >77.38 €</td>\n",
       "    </tr>\n",
       "    <tr>\n",
       "      <th id=\"T_e42b6_level0_row4\" class=\"row_heading level0 row4\" >Maio</th>\n",
       "      <td id=\"T_e42b6_row4_col0\" class=\"data row4 col0\" >116.08 €</td>\n",
       "      <td id=\"T_e42b6_row4_col1\" class=\"data row4 col1\" >38.26 €</td>\n",
       "      <td id=\"T_e42b6_row4_col2\" class=\"data row4 col2\" >77.82 €</td>\n",
       "    </tr>\n",
       "    <tr>\n",
       "      <th id=\"T_e42b6_level0_row5\" class=\"row_heading level0 row5\" >Junho</th>\n",
       "      <td id=\"T_e42b6_row5_col0\" class=\"data row5 col0\" >113.74 €</td>\n",
       "      <td id=\"T_e42b6_row5_col1\" class=\"data row5 col1\" >36.63 €</td>\n",
       "      <td id=\"T_e42b6_row5_col2\" class=\"data row5 col2\" >77.11 €</td>\n",
       "    </tr>\n",
       "    <tr>\n",
       "      <th id=\"T_e42b6_level0_row6\" class=\"row_heading level0 row6\" >Julho</th>\n",
       "      <td id=\"T_e42b6_row6_col0\" class=\"data row6 col0\" >124.07 €</td>\n",
       "      <td id=\"T_e42b6_row6_col1\" class=\"data row6 col1\" >40.97 €</td>\n",
       "      <td id=\"T_e42b6_row6_col2\" class=\"data row6 col2\" >83.10 €</td>\n",
       "    </tr>\n",
       "    <tr>\n",
       "      <th id=\"T_e42b6_level0_row7\" class=\"row_heading level0 row7\" >Agosto</th>\n",
       "      <td id=\"T_e42b6_row7_col0\" class=\"data row7 col0\" >125.83 €</td>\n",
       "      <td id=\"T_e42b6_row7_col1\" class=\"data row7 col1\" >43.79 €</td>\n",
       "      <td id=\"T_e42b6_row7_col2\" class=\"data row7 col2\" >82.04 €</td>\n",
       "    </tr>\n",
       "    <tr>\n",
       "      <th id=\"T_e42b6_level0_row8\" class=\"row_heading level0 row8\" >Setembro</th>\n",
       "      <td id=\"T_e42b6_row8_col0\" class=\"data row8 col0\" >115.96 €</td>\n",
       "      <td id=\"T_e42b6_row8_col1\" class=\"data row8 col1\" >43.31 €</td>\n",
       "      <td id=\"T_e42b6_row8_col2\" class=\"data row8 col2\" >72.65 €</td>\n",
       "    </tr>\n",
       "    <tr>\n",
       "      <th id=\"T_e42b6_level0_row9\" class=\"row_heading level0 row9\" >Outubro</th>\n",
       "      <td id=\"T_e42b6_row9_col0\" class=\"data row9 col0\" >119.72 €</td>\n",
       "      <td id=\"T_e42b6_row9_col1\" class=\"data row9 col1\" >49.60 €</td>\n",
       "      <td id=\"T_e42b6_row9_col2\" class=\"data row9 col2\" >70.12 €</td>\n",
       "    </tr>\n",
       "    <tr>\n",
       "      <th id=\"T_e42b6_level0_row10\" class=\"row_heading level0 row10\" >Novembro</th>\n",
       "      <td id=\"T_e42b6_row10_col0\" class=\"data row10 col0\" >131.57 €</td>\n",
       "      <td id=\"T_e42b6_row10_col1\" class=\"data row10 col1\" >67.87 €</td>\n",
       "      <td id=\"T_e42b6_row10_col2\" class=\"data row10 col2\" >63.70 €</td>\n",
       "    </tr>\n",
       "    <tr>\n",
       "      <th id=\"T_e42b6_level0_row11\" class=\"row_heading level0 row11\" >Dezembro</th>\n",
       "      <td id=\"T_e42b6_row11_col0\" class=\"data row11 col0\" >162.36 €</td>\n",
       "      <td id=\"T_e42b6_row11_col1\" class=\"data row11 col1\" >98.41 €</td>\n",
       "      <td id=\"T_e42b6_row11_col2\" class=\"data row11 col2\" >63.95 €</td>\n",
       "    </tr>\n",
       "    <tr>\n",
       "      <th id=\"T_e42b6_level0_row12\" class=\"row_heading level0 row12\" >Anual</th>\n",
       "      <td id=\"T_e42b6_row12_col0\" class=\"data row12 col0\" >1580.59 €</td>\n",
       "      <td id=\"T_e42b6_row12_col1\" class=\"data row12 col1\" >688.40 €</td>\n",
       "      <td id=\"T_e42b6_row12_col2\" class=\"data row12 col2\" >892.19 €</td>\n",
       "    </tr>\n",
       "  </tbody>\n",
       "</table>\n"
      ]
     },
     "metadata": {},
     "output_type": "display_data"
    }
   ],
   "source": [
    "if analise_com_bateria:\n",
    "    # custos tarifario simples\n",
    "    #mensal_simples = af.analise_poupanca_anual_fatura(energia_armaz, ape.Tarifario.Simples, precos_energia, False, ['consumo', 'consumo_rede'])\n",
    "    #simples_styler = mensal_simples.style.format(\"{:.2f} €\").set_caption('Tarifario Simples P50').set_table_attributes(\"style='display:inline'\")\n",
    "\n",
    "    mensal_bihorario = af.analise_poupanca_anual_fatura(energia_armaz, ape.Tarifario.Bihorario, precos_energia, False, ['consumo', 'consumo_rede'])\n",
    "    bihorario_styler = mensal_bihorario.style.format(\"{:.2f} €\").set_caption('Tarifario Bi-horário P50').set_table_attributes(\"style='display:inline'\")\n",
    "\n",
    "    #mensal_trihorario = af.analise_poupanca_anual_fatura(energia_armaz, ape.Tarifario.Trihorario, precos_energia, False, ['consumo', 'consumo_rede'], ano_tarifario)\n",
    "    #trihorario_styler = mensal_trihorario.style.format(\"{:.2f} €\").set_caption('Tarifario Tri-horário P50').set_table_attributes(\"style='display:inline'\")\n",
    "    \n",
    "    # display todos\n",
    "    #display_html(simples_styler._repr_html_() + bihorario_styler._repr_html_() + trihorario_styler._repr_html_(), raw=True)\n",
    "    # so simples\n",
    "    #display_html(simples_styler._repr_html_(), raw=True)\n",
    "    # so bihorario\n",
    "    display_html(bihorario_styler._repr_html_(), raw=True)\n",
    "    # so trihorario\n",
    "    #display_html(trihorario_styler._repr_html_(), raw=True)"
   ]
  },
  {
   "cell_type": "markdown",
   "metadata": {},
   "source": [
    "### 4.2 UPAC com venda à rede"
   ]
  },
  {
   "cell_type": "code",
   "execution_count": 11,
   "metadata": {},
   "outputs": [
    {
     "data": {
      "text/html": [
       "<style type=\"text/css\">\n",
       "</style>\n",
       "<table id=\"T_54986\" style='display:inline'>\n",
       "  <caption>Tarifario Bi-horário P50</caption>\n",
       "  <thead>\n",
       "    <tr>\n",
       "      <th class=\"blank level0\" >&nbsp;</th>\n",
       "      <th id=\"T_54986_level0_col0\" class=\"col_heading level0 col0\" >fatura sem upac</th>\n",
       "      <th id=\"T_54986_level0_col1\" class=\"col_heading level0 col1\" >fatura com upac</th>\n",
       "      <th id=\"T_54986_level0_col2\" class=\"col_heading level0 col2\" >poupanca</th>\n",
       "      <th id=\"T_54986_level0_col3\" class=\"col_heading level0 col3\" >venda a rede</th>\n",
       "    </tr>\n",
       "    <tr>\n",
       "      <th class=\"index_name level0\" >mes</th>\n",
       "      <th class=\"blank col0\" >&nbsp;</th>\n",
       "      <th class=\"blank col1\" >&nbsp;</th>\n",
       "      <th class=\"blank col2\" >&nbsp;</th>\n",
       "      <th class=\"blank col3\" >&nbsp;</th>\n",
       "    </tr>\n",
       "  </thead>\n",
       "  <tbody>\n",
       "    <tr>\n",
       "      <th id=\"T_54986_level0_row0\" class=\"row_heading level0 row0\" >Janeiro</th>\n",
       "      <td id=\"T_54986_row0_col0\" class=\"data row0 col0\" >169.87 €</td>\n",
       "      <td id=\"T_54986_row0_col1\" class=\"data row0 col1\" >98.23 €</td>\n",
       "      <td id=\"T_54986_row0_col2\" class=\"data row0 col2\" >71.87 €</td>\n",
       "      <td id=\"T_54986_row0_col3\" class=\"data row0 col3\" >0.23 €</td>\n",
       "    </tr>\n",
       "    <tr>\n",
       "      <th id=\"T_54986_level0_row1\" class=\"row_heading level0 row1\" >Fevereiro</th>\n",
       "      <td id=\"T_54986_row1_col0\" class=\"data row1 col0\" >142.00 €</td>\n",
       "      <td id=\"T_54986_row1_col1\" class=\"data row1 col1\" >69.69 €</td>\n",
       "      <td id=\"T_54986_row1_col2\" class=\"data row1 col2\" >73.91 €</td>\n",
       "      <td id=\"T_54986_row1_col3\" class=\"data row1 col3\" >1.60 €</td>\n",
       "    </tr>\n",
       "    <tr>\n",
       "      <th id=\"T_54986_level0_row2\" class=\"row_heading level0 row2\" >Março</th>\n",
       "      <td id=\"T_54986_row2_col0\" class=\"data row2 col0\" >138.00 €</td>\n",
       "      <td id=\"T_54986_row2_col1\" class=\"data row2 col1\" >57.63 €</td>\n",
       "      <td id=\"T_54986_row2_col2\" class=\"data row2 col2\" >84.62 €</td>\n",
       "      <td id=\"T_54986_row2_col3\" class=\"data row2 col3\" >4.25 €</td>\n",
       "    </tr>\n",
       "    <tr>\n",
       "      <th id=\"T_54986_level0_row3\" class=\"row_heading level0 row3\" >Abril</th>\n",
       "      <td id=\"T_54986_row3_col0\" class=\"data row3 col0\" >121.39 €</td>\n",
       "      <td id=\"T_54986_row3_col1\" class=\"data row3 col1\" >44.01 €</td>\n",
       "      <td id=\"T_54986_row3_col2\" class=\"data row3 col2\" >82.90 €</td>\n",
       "      <td id=\"T_54986_row3_col3\" class=\"data row3 col3\" >5.52 €</td>\n",
       "    </tr>\n",
       "    <tr>\n",
       "      <th id=\"T_54986_level0_row4\" class=\"row_heading level0 row4\" >Maio</th>\n",
       "      <td id=\"T_54986_row4_col0\" class=\"data row4 col0\" >116.08 €</td>\n",
       "      <td id=\"T_54986_row4_col1\" class=\"data row4 col1\" >38.26 €</td>\n",
       "      <td id=\"T_54986_row4_col2\" class=\"data row4 col2\" >85.87 €</td>\n",
       "      <td id=\"T_54986_row4_col3\" class=\"data row4 col3\" >8.05 €</td>\n",
       "    </tr>\n",
       "    <tr>\n",
       "      <th id=\"T_54986_level0_row5\" class=\"row_heading level0 row5\" >Junho</th>\n",
       "      <td id=\"T_54986_row5_col0\" class=\"data row5 col0\" >113.74 €</td>\n",
       "      <td id=\"T_54986_row5_col1\" class=\"data row5 col1\" >36.63 €</td>\n",
       "      <td id=\"T_54986_row5_col2\" class=\"data row5 col2\" >85.24 €</td>\n",
       "      <td id=\"T_54986_row5_col3\" class=\"data row5 col3\" >8.13 €</td>\n",
       "    </tr>\n",
       "    <tr>\n",
       "      <th id=\"T_54986_level0_row6\" class=\"row_heading level0 row6\" >Julho</th>\n",
       "      <td id=\"T_54986_row6_col0\" class=\"data row6 col0\" >124.07 €</td>\n",
       "      <td id=\"T_54986_row6_col1\" class=\"data row6 col1\" >40.97 €</td>\n",
       "      <td id=\"T_54986_row6_col2\" class=\"data row6 col2\" >92.86 €</td>\n",
       "      <td id=\"T_54986_row6_col3\" class=\"data row6 col3\" >9.76 €</td>\n",
       "    </tr>\n",
       "    <tr>\n",
       "      <th id=\"T_54986_level0_row7\" class=\"row_heading level0 row7\" >Agosto</th>\n",
       "      <td id=\"T_54986_row7_col0\" class=\"data row7 col0\" >125.83 €</td>\n",
       "      <td id=\"T_54986_row7_col1\" class=\"data row7 col1\" >43.79 €</td>\n",
       "      <td id=\"T_54986_row7_col2\" class=\"data row7 col2\" >91.60 €</td>\n",
       "      <td id=\"T_54986_row7_col3\" class=\"data row7 col3\" >9.56 €</td>\n",
       "    </tr>\n",
       "    <tr>\n",
       "      <th id=\"T_54986_level0_row8\" class=\"row_heading level0 row8\" >Setembro</th>\n",
       "      <td id=\"T_54986_row8_col0\" class=\"data row8 col0\" >115.96 €</td>\n",
       "      <td id=\"T_54986_row8_col1\" class=\"data row8 col1\" >43.31 €</td>\n",
       "      <td id=\"T_54986_row8_col2\" class=\"data row8 col2\" >79.58 €</td>\n",
       "      <td id=\"T_54986_row8_col3\" class=\"data row8 col3\" >6.93 €</td>\n",
       "    </tr>\n",
       "    <tr>\n",
       "      <th id=\"T_54986_level0_row9\" class=\"row_heading level0 row9\" >Outubro</th>\n",
       "      <td id=\"T_54986_row9_col0\" class=\"data row9 col0\" >119.72 €</td>\n",
       "      <td id=\"T_54986_row9_col1\" class=\"data row9 col1\" >49.60 €</td>\n",
       "      <td id=\"T_54986_row9_col2\" class=\"data row9 col2\" >73.79 €</td>\n",
       "      <td id=\"T_54986_row9_col3\" class=\"data row9 col3\" >3.67 €</td>\n",
       "    </tr>\n",
       "    <tr>\n",
       "      <th id=\"T_54986_level0_row10\" class=\"row_heading level0 row10\" >Novembro</th>\n",
       "      <td id=\"T_54986_row10_col0\" class=\"data row10 col0\" >131.57 €</td>\n",
       "      <td id=\"T_54986_row10_col1\" class=\"data row10 col1\" >67.87 €</td>\n",
       "      <td id=\"T_54986_row10_col2\" class=\"data row10 col2\" >64.32 €</td>\n",
       "      <td id=\"T_54986_row10_col3\" class=\"data row10 col3\" >0.62 €</td>\n",
       "    </tr>\n",
       "    <tr>\n",
       "      <th id=\"T_54986_level0_row11\" class=\"row_heading level0 row11\" >Dezembro</th>\n",
       "      <td id=\"T_54986_row11_col0\" class=\"data row11 col0\" >162.36 €</td>\n",
       "      <td id=\"T_54986_row11_col1\" class=\"data row11 col1\" >98.41 €</td>\n",
       "      <td id=\"T_54986_row11_col2\" class=\"data row11 col2\" >63.99 €</td>\n",
       "      <td id=\"T_54986_row11_col3\" class=\"data row11 col3\" >0.04 €</td>\n",
       "    </tr>\n",
       "    <tr>\n",
       "      <th id=\"T_54986_level0_row12\" class=\"row_heading level0 row12\" >Anual</th>\n",
       "      <td id=\"T_54986_row12_col0\" class=\"data row12 col0\" >1580.59 €</td>\n",
       "      <td id=\"T_54986_row12_col1\" class=\"data row12 col1\" >688.40 €</td>\n",
       "      <td id=\"T_54986_row12_col2\" class=\"data row12 col2\" >950.56 €</td>\n",
       "      <td id=\"T_54986_row12_col3\" class=\"data row12 col3\" >58.37 €</td>\n",
       "    </tr>\n",
       "  </tbody>\n",
       "</table>\n"
      ]
     },
     "metadata": {},
     "output_type": "display_data"
    }
   ],
   "source": [
    "if analise_com_bateria:\n",
    "    # simples\n",
    "    #mensal_simples = af.analise_poupanca_anual_fatura(energia_armaz, ape.Tarifario.Simples, precos_energia, True, ['consumo', 'consumo_rede', 'injeccao_rede'])\n",
    "    #simples_styler = mensal_simples.style.format(\"{:.2f} €\").set_caption('Tarifario Simples P50').set_table_attributes(\"style='display:inline'\")\n",
    "\n",
    "    mensal_bihorario = af.analise_poupanca_anual_fatura(energia_armaz, ape.Tarifario.Bihorario, precos_energia, True, ['consumo', 'consumo_rede', 'injeccao_rede'])\n",
    "    bihorario_styler = mensal_bihorario.style.format(\"{:.2f} €\").set_caption('Tarifario Bi-horário P50').set_table_attributes(\"style='display:inline'\")\n",
    "\n",
    "    #mensal_trihorario = af.analise_poupanca_anual_fatura(energia_armaz, ape.Tarifario.Trihorario, precos_energia, True, ['consumo', 'consumo_rede', 'injeccao_rede'], ano_tarifario)\n",
    "    #trihorario_styler = mensal_trihorario.style.format(\"{:.2f} €\").set_caption('Tarifario Tri-horário P50').set_table_attributes(\"style='display:inline'\")\n",
    "    \n",
    "    # display todos\n",
    "    #display_html(simples_styler._repr_html_() + bihorario_styler._repr_html_() + trihorario_styler._repr_html_(), raw=True)\n",
    "    # so simples\n",
    "    #display_html(simples_styler._repr_html_(), raw=True)\n",
    "    # so bihorario\n",
    "    display_html(bihorario_styler._repr_html_(), raw=True)\n",
    "    # so trihorario\n",
    "    #display_html(trihorario_styler._repr_html_(), raw=True)"
   ]
  },
  {
   "cell_type": "markdown",
   "metadata": {},
   "source": [
    "## 5. Analise Financeira do projecto no tempo de vida\n",
    "\n",
    "Calcular indicadores financeiros para o tempo de vida do projecto.\n",
    "\n",
    "* VAL\n",
    "\n",
    "* TIR\n",
    "\n",
    "* Tempo retorno projecto"
   ]
  },
  {
   "cell_type": "code",
   "execution_count": 12,
   "metadata": {},
   "outputs": [
    {
     "name": "stdout",
     "output_type": "stream",
     "text": [
      "Investimeto total = 4416.00 €\n",
      "Custos OM = 22.08 €/ano\n"
     ]
    }
   ],
   "source": [
    "investimento_estimado = custo_pv + custo_bat + custo_instalacao + outros_custos\n",
    "\n",
    "# Custo de manutencao anual\n",
    "custo_manutencao = investimento_estimado * (perc_custo_manutencao / 100)\n",
    "\n",
    "# Apoio fundo ambiental\n",
    "apoio = 0\n",
    "if considerar_apoio:\n",
    "   apoio = min(investimento_estimado*(perc_apoio/100), apoio_max)\n",
    "   investimento_estimado = investimento_estimado - apoio\n",
    "\n",
    "print(f\"Investimeto total = {investimento_estimado:.2f} €\")\n",
    "print(f\"Custos OM = {custo_manutencao:.2f} €/ano\")"
   ]
  },
  {
   "cell_type": "markdown",
   "metadata": {},
   "source": [
    "### 5.1 UPAC sem venda à rede"
   ]
  },
  {
   "cell_type": "code",
   "execution_count": 13,
   "metadata": {},
   "outputs": [
    {
     "data": {
      "text/html": [
       "<style type=\"text/css\">\n",
       "</style>\n",
       "<table id=\"T_18c39\" style='display:inline'>\n",
       "  <caption>Tarifario Bi-horário P50</caption>\n",
       "  <thead>\n",
       "    <tr>\n",
       "      <th class=\"blank level0\" >&nbsp;</th>\n",
       "      <th id=\"T_18c39_level0_col0\" class=\"col_heading level0 col0\" >valores</th>\n",
       "    </tr>\n",
       "    <tr>\n",
       "      <th class=\"index_name level0\" >indice</th>\n",
       "      <th class=\"blank col0\" >&nbsp;</th>\n",
       "    </tr>\n",
       "  </thead>\n",
       "  <tbody>\n",
       "    <tr>\n",
       "      <th id=\"T_18c39_level0_row0\" class=\"row_heading level0 row0\" >Tempo vida util projecto [anos]</th>\n",
       "      <td id=\"T_18c39_row0_col0\" class=\"data row0 col0\" >20.00</td>\n",
       "    </tr>\n",
       "    <tr>\n",
       "      <th id=\"T_18c39_level0_row1\" class=\"row_heading level0 row1\" >Custo instalação [€]</th>\n",
       "      <td id=\"T_18c39_row1_col0\" class=\"data row1 col0\" >4416.00</td>\n",
       "    </tr>\n",
       "    <tr>\n",
       "      <th id=\"T_18c39_level0_row2\" class=\"row_heading level0 row2\" >Custo manutenção anual [€/ano]</th>\n",
       "      <td id=\"T_18c39_row2_col0\" class=\"data row2 col0\" >22.08</td>\n",
       "    </tr>\n",
       "    <tr>\n",
       "      <th id=\"T_18c39_level0_row3\" class=\"row_heading level0 row3\" >VAL [€]</th>\n",
       "      <td id=\"T_18c39_row3_col0\" class=\"data row3 col0\" >7528.11</td>\n",
       "    </tr>\n",
       "    <tr>\n",
       "      <th id=\"T_18c39_level0_row4\" class=\"row_heading level0 row4\" >TIR [%]</th>\n",
       "      <td id=\"T_18c39_row4_col0\" class=\"data row4 col0\" >20.30</td>\n",
       "    </tr>\n",
       "    <tr>\n",
       "      <th id=\"T_18c39_level0_row5\" class=\"row_heading level0 row5\" >Retorno do investimento [anos]</th>\n",
       "      <td id=\"T_18c39_row5_col0\" class=\"data row5 col0\" >5.80</td>\n",
       "    </tr>\n",
       "    <tr>\n",
       "      <th id=\"T_18c39_level0_row6\" class=\"row_heading level0 row6\" >Lcoe [€/kWh]</th>\n",
       "      <td id=\"T_18c39_row6_col0\" class=\"data row6 col0\" >0.07</td>\n",
       "    </tr>\n",
       "  </tbody>\n",
       "</table>\n"
      ]
     },
     "metadata": {},
     "output_type": "display_data"
    }
   ],
   "source": [
    "cols = ['consumo', 'consumo_rede']\n",
    "\n",
    "# custos tarifario simples\n",
    "#indicadores_financas_simples, cf_simples = af.analise_financeira_projecto_faturas(energia_armaz, investimento_estimado, custo_manutencao, taxa_actualizacao, ano_0, tempo_vida, taxa_degradacao_sistema, taxa_inflacao, ape.Tarifario.Simples, precos_energia, False, cols, indicadores_armaz)\n",
    "#simples_style = indicadores_financas_simples.as_frame().style.format(\"{:.2f}\").set_caption('Tarifario Simples P50').set_table_attributes(\"style='display:inline'\")\n",
    "\n",
    "indicadores_financas_bihorario, _ = af.analise_financeira_projecto_faturas(energia_armaz, investimento_estimado, custo_manutencao, taxa_actualizacao, ano_0, tempo_vida, taxa_degradacao_sistema, taxa_inflacao, ape.Tarifario.Bihorario, precos_energia, False, cols, indicadores_armaz)\n",
    "bihorario_style = indicadores_financas_bihorario.as_frame().style.format(\"{:.2f}\").set_caption('Tarifario Bi-horário P50').set_table_attributes(\"style='display:inline'\")\n",
    "\n",
    "#indicadores_financas_trihorario, _ = af.analise_financeira_projecto_faturas(energia_armaz, investimento_estimado, custo_manutencao, taxa_actualizacao, ano_0, tempo_vida, taxa_degradacao_sistema, taxa_inflacao, ape.Tarifario.Trihorario, precos_energia, False, cols, indicadores_armaz)\n",
    "#trihorario_style = indicadores_financas_trihorario.as_frame().style.format(\"{:.2f}\").set_caption('Tarifario Tri-horário P50').set_table_attributes(\"style='display:inline'\")\n",
    "\n",
    "# display todos\n",
    "#display_html(simples_style._repr_html_() + bihorario_style._repr_html_() + trihorario_style._repr_html_(), raw=True)\n",
    "# so simples\n",
    "#display_html(simples_style._repr_html_(), raw=True)\n",
    "# so bihorario\n",
    "display_html(bihorario_style._repr_html_(), raw=True)\n",
    "# so trihorario\n",
    "#display_html(trihorario_style._repr_html_(), raw=True)\n"
   ]
  },
  {
   "cell_type": "markdown",
   "metadata": {},
   "source": [
    "### 5.2 UPAC com venda à rede"
   ]
  },
  {
   "cell_type": "code",
   "execution_count": 14,
   "metadata": {},
   "outputs": [
    {
     "data": {
      "text/html": [
       "<style type=\"text/css\">\n",
       "</style>\n",
       "<table id=\"T_51a4a\" style='display:inline'>\n",
       "  <caption>Tarifario Bi-horário P50</caption>\n",
       "  <thead>\n",
       "    <tr>\n",
       "      <th class=\"blank level0\" >&nbsp;</th>\n",
       "      <th id=\"T_51a4a_level0_col0\" class=\"col_heading level0 col0\" >valores</th>\n",
       "    </tr>\n",
       "    <tr>\n",
       "      <th class=\"index_name level0\" >indice</th>\n",
       "      <th class=\"blank col0\" >&nbsp;</th>\n",
       "    </tr>\n",
       "  </thead>\n",
       "  <tbody>\n",
       "    <tr>\n",
       "      <th id=\"T_51a4a_level0_row0\" class=\"row_heading level0 row0\" >Tempo vida util projecto [anos]</th>\n",
       "      <td id=\"T_51a4a_row0_col0\" class=\"data row0 col0\" >20.00</td>\n",
       "    </tr>\n",
       "    <tr>\n",
       "      <th id=\"T_51a4a_level0_row1\" class=\"row_heading level0 row1\" >Custo instalação [€]</th>\n",
       "      <td id=\"T_51a4a_row1_col0\" class=\"data row1 col0\" >4416.00</td>\n",
       "    </tr>\n",
       "    <tr>\n",
       "      <th id=\"T_51a4a_level0_row2\" class=\"row_heading level0 row2\" >Custo manutenção anual [€/ano]</th>\n",
       "      <td id=\"T_51a4a_row2_col0\" class=\"data row2 col0\" >22.08</td>\n",
       "    </tr>\n",
       "    <tr>\n",
       "      <th id=\"T_51a4a_level0_row3\" class=\"row_heading level0 row3\" >VAL [€]</th>\n",
       "      <td id=\"T_51a4a_row3_col0\" class=\"data row3 col0\" >8335.80</td>\n",
       "    </tr>\n",
       "    <tr>\n",
       "      <th id=\"T_51a4a_level0_row4\" class=\"row_heading level0 row4\" >TIR [%]</th>\n",
       "      <td id=\"T_51a4a_row4_col0\" class=\"data row4 col0\" >21.73</td>\n",
       "    </tr>\n",
       "    <tr>\n",
       "      <th id=\"T_51a4a_level0_row5\" class=\"row_heading level0 row5\" >Retorno do investimento [anos]</th>\n",
       "      <td id=\"T_51a4a_row5_col0\" class=\"data row5 col0\" >5.40</td>\n",
       "    </tr>\n",
       "    <tr>\n",
       "      <th id=\"T_51a4a_level0_row6\" class=\"row_heading level0 row6\" >Lcoe [€/kWh]</th>\n",
       "      <td id=\"T_51a4a_row6_col0\" class=\"data row6 col0\" >0.07</td>\n",
       "    </tr>\n",
       "  </tbody>\n",
       "</table>\n"
      ]
     },
     "metadata": {},
     "output_type": "display_data"
    }
   ],
   "source": [
    "cols = ['consumo', 'consumo_rede', 'injeccao_rede']\n",
    "\n",
    "# custos tarifario simples\n",
    "#indicadores_financas_simples, cf_simples = af.analise_financeira_projecto_faturas(energia_armaz, investimento_estimado, custo_manutencao, taxa_actualizacao, ano_0, tempo_vida, taxa_degradacao_sistema, taxa_inflacao, ape.Tarifario.Simples, precos_energia, True, cols, indicadores_armaz)\n",
    "#simples_style = indicadores_financas_simples.as_frame().style.format(\"{:.2f}\").set_caption('Tarifario Simples P50').set_table_attributes(\"style='display:inline'\")\n",
    "\n",
    "indicadores_financas_bihorario, _ = af.analise_financeira_projecto_faturas(energia_armaz, investimento_estimado, custo_manutencao, taxa_actualizacao, ano_0, tempo_vida, taxa_degradacao_sistema, taxa_inflacao, ape.Tarifario.Bihorario, precos_energia, True, cols, indicadores_armaz)\n",
    "bihorario_style = indicadores_financas_bihorario.as_frame().style.format(\"{:.2f}\").set_caption('Tarifario Bi-horário P50').set_table_attributes(\"style='display:inline'\")\n",
    "\n",
    "#indicadores_financas_trihorario, _ = af.analise_financeira_projecto_faturas(energia_armaz, investimento_estimado, custo_manutencao, taxa_actualizacao, ano_0, tempo_vida, taxa_degradacao_sistema, taxa_inflacao, ape.Tarifario.Trihorario, precos_energia, True, cols, indicadores_armaz)\n",
    "#trihorario_style = indicadores_financas_trihorario.as_frame().style.format(\"{:.2f}\").set_caption('Tarifario Tri-horário P50').set_table_attributes(\"style='display:inline'\")\n",
    "\n",
    "# display todos\n",
    "#display_html(simples_style._repr_html_() + bihorario_style._repr_html_() + trihorario_style._repr_html_(), raw=True)\n",
    "# so simples\n",
    "#display_html(simples_style._repr_html_(), raw=True)\n",
    "# so bihorario\n",
    "display_html(bihorario_style._repr_html_(), raw=True)\n",
    "# so trihorario\n",
    "#display_html(trihorario_style._repr_html_(), raw=True)"
   ]
  },
  {
   "cell_type": "code",
   "execution_count": null,
   "metadata": {},
   "outputs": [],
   "source": []
  }
 ],
 "metadata": {
  "kernelspec": {
   "display_name": "base",
   "language": "python",
   "name": "python3"
  },
  "language_info": {
   "codemirror_mode": {
    "name": "ipython",
    "version": 3
   },
   "file_extension": ".py",
   "mimetype": "text/x-python",
   "name": "python",
   "nbconvert_exporter": "python",
   "pygments_lexer": "ipython3",
   "version": "3.8.15"
  },
  "orig_nbformat": 4
 },
 "nbformat": 4,
 "nbformat_minor": 2
}
